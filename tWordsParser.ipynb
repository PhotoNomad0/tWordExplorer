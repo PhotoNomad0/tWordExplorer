{
 "cells": [
  {
   "cell_type": "code",
   "execution_count": 2,
   "id": "66c34048",
   "metadata": {
    "ExecuteTime": {
     "start_time": "2023-07-11T07:26:48.690819Z",
     "end_time": "2023-07-11T07:26:48.717099Z"
    },
    "datalink": {
     "931195f9-dbf5-42c2-a945-dbe96b634b5f": {
      "applied_filters": [],
      "dataframe_info": {
       "default_index_used": true,
       "orig_num_cols": 12,
       "orig_num_rows": 140,
       "orig_size_bytes": 14560,
       "truncated_num_cols": 12,
       "truncated_num_rows": 140,
       "truncated_size_bytes": 14560,
       "truncated_string_columns": []
      },
      "display_id": "931195f9-dbf5-42c2-a945-dbe96b634b5f",
      "dx_settings": {
       "ALLOW_NOTEABLE_ATTRS": true,
       "COLUMN_SAMPLING_METHOD": "outer",
       "DB_LOCATION": ":memory:",
       "DEV_MODE": false,
       "DISPLAY_MAX_COLUMNS": 100,
       "DISPLAY_MAX_ROWS": 50000,
       "DISPLAY_MODE": "simple",
       "ENABLE_ASSIGNMENT": true,
       "ENABLE_DATALINK": true,
       "FLATTEN_COLUMN_VALUES": true,
       "FLATTEN_INDEX_VALUES": false,
       "GENERATE_DEX_METADATA": false,
       "HTML_TABLE_SCHEMA": false,
       "LOG_LEVEL": 30,
       "MAX_RENDER_SIZE_BYTES": 104857600,
       "MAX_STRING_LENGTH": 250,
       "NUM_PAST_SAMPLES_TRACKED": 3,
       "RANDOM_STATE": 12648430,
       "RESET_INDEX_VALUES": false,
       "ROW_SAMPLING_METHOD": "random",
       "SAMPLING_FACTOR": 0.1,
       "SAMPLING_METHOD": "random",
       "STRINGIFY_COLUMN_VALUES": true,
       "STRINGIFY_INDEX_VALUES": false
      },
      "sample_history": [],
      "sampling_time": "2023-07-05T17:41:31.365289",
      "user_variable_name": "df",
      "variable_name": "df"
     }
    },
    "jupyter": {
     "outputs_hidden": false
    },
    "noteable": {},
    "scrolled": false
   },
   "outputs": [
    {
     "name": "stdout",
     "output_type": "stream",
     "text": [
      "186 rows found\n"
     ]
    },
    {
     "data": {
      "text/plain": "           lemma     strong          morph         alignedText  \\\n0        ἄρχων     G07580  Gr,N,,,,,GMP,       of the rulers   \n1        ἄρχων     G07580  Gr,N,,,,,GMP,       of the rulers   \n2        ἄρχων     G07580  Gr,N,,,,,GMP,       of the rulers   \n3         ἀρχή     G07460  Gr,N,,,,,AFS,                rule   \n4    προΐστημι     G42910  Gr,V,PEA,NMP,        having ruled   \n..           ...        ...            ...                 ...   \n181       מָשַׁל  c:b:H4910     He,C:R:Vqc      but when rules   \n182       מָשַׁל      H4910      He,Vqrmsa             A ruler   \n183       מָשַׁל      H4910      He,Vqrmsa             a ruler   \n184        רָזַן  c:l:H7336  He,C:R:Vqrmpa  or for dignitaries   \n185       שָׁלַט      H7980      He,Vhj3fs         do let rule   \n\n        targetAlignment    sourceAlignment category  tWord              quote  \\\n0         of the rulers         ἀρχόντων    other  ruler           ἀρχόντων   \n1         of the rulers         ἀρχόντων    other  ruler           ἀρχόντων   \n2         of the rulers         ἀρχόντων    other  ruler           ἀρχόντων   \n3                  rule            ἀρχὴν    other  ruler              ἀρχὴν   \n4          having ruled        προεστῶτες    other  ruler         προεστῶτες   \n..                  ...                ...      ...    ...                ...   \n181      but when rules      וּ⁠בִ⁠מְשֹׁ֥ל    other  ruler      וּ⁠בִ⁠מְשֹׁ֥ל   \n182             A ruler            מֹ֭שֵׁל    other  ruler            מֹ֭שֵׁל   \n183             a ruler           מוֹשֵׁ֑ל    other  ruler           מוֹשֵׁ֑ל   \n184  or for dignitaries  וּ֝⁠לְ⁠רוֹזְנִ֗ים    other  ruler  וּ֝⁠לְ⁠רוֹזְנִ֗ים   \n185         do let rule          תַּשְׁלֶט    other  ruler          תַּשְׁלֶט   \n\n     lemmaCount  strongCount  alignedTextCount  targetAlignmentCount  \\\n0             1            1                 3                     3   \n1             1            1                 3                     3   \n2             1            1                 3                     3   \n3             1            1                 1                     1   \n4             1            1                 2                     2   \n..          ...          ...               ...                   ...   \n181           1            1                 3                     3   \n182           1            1                 2                     2   \n183           1            1                 2                     2   \n184           1            1                 3                     3   \n185           1            1                 3                     3   \n\n     sourceAlignmentCount          ref  \n0                       1     luk 14:1  \n1                       1      1co 2:6  \n2                       1      1co 2:8  \n3                       1    1co 15:24  \n4                       1     1ti 5:17  \n..                    ...          ...  \n181                     1     pro 29:2  \n182                     1    pro 29:12  \n183                     1    pro 29:26  \n184                     1     pro 31:4  \n185                     1  psa 119:133  \n\n[186 rows x 15 columns]",
      "text/html": "<div>\n<style scoped>\n    .dataframe tbody tr th:only-of-type {\n        vertical-align: middle;\n    }\n\n    .dataframe tbody tr th {\n        vertical-align: top;\n    }\n\n    .dataframe thead th {\n        text-align: right;\n    }\n</style>\n<table border=\"1\" class=\"dataframe\">\n  <thead>\n    <tr style=\"text-align: right;\">\n      <th></th>\n      <th>lemma</th>\n      <th>strong</th>\n      <th>morph</th>\n      <th>alignedText</th>\n      <th>targetAlignment</th>\n      <th>sourceAlignment</th>\n      <th>category</th>\n      <th>tWord</th>\n      <th>quote</th>\n      <th>lemmaCount</th>\n      <th>strongCount</th>\n      <th>alignedTextCount</th>\n      <th>targetAlignmentCount</th>\n      <th>sourceAlignmentCount</th>\n      <th>ref</th>\n    </tr>\n  </thead>\n  <tbody>\n    <tr>\n      <th>0</th>\n      <td>ἄρχων</td>\n      <td>G07580</td>\n      <td>Gr,N,,,,,GMP,</td>\n      <td>of the rulers</td>\n      <td>of the rulers</td>\n      <td>ἀρχόντων</td>\n      <td>other</td>\n      <td>ruler</td>\n      <td>ἀρχόντων</td>\n      <td>1</td>\n      <td>1</td>\n      <td>3</td>\n      <td>3</td>\n      <td>1</td>\n      <td>luk 14:1</td>\n    </tr>\n    <tr>\n      <th>1</th>\n      <td>ἄρχων</td>\n      <td>G07580</td>\n      <td>Gr,N,,,,,GMP,</td>\n      <td>of the rulers</td>\n      <td>of the rulers</td>\n      <td>ἀρχόντων</td>\n      <td>other</td>\n      <td>ruler</td>\n      <td>ἀρχόντων</td>\n      <td>1</td>\n      <td>1</td>\n      <td>3</td>\n      <td>3</td>\n      <td>1</td>\n      <td>1co 2:6</td>\n    </tr>\n    <tr>\n      <th>2</th>\n      <td>ἄρχων</td>\n      <td>G07580</td>\n      <td>Gr,N,,,,,GMP,</td>\n      <td>of the rulers</td>\n      <td>of the rulers</td>\n      <td>ἀρχόντων</td>\n      <td>other</td>\n      <td>ruler</td>\n      <td>ἀρχόντων</td>\n      <td>1</td>\n      <td>1</td>\n      <td>3</td>\n      <td>3</td>\n      <td>1</td>\n      <td>1co 2:8</td>\n    </tr>\n    <tr>\n      <th>3</th>\n      <td>ἀρχή</td>\n      <td>G07460</td>\n      <td>Gr,N,,,,,AFS,</td>\n      <td>rule</td>\n      <td>rule</td>\n      <td>ἀρχὴν</td>\n      <td>other</td>\n      <td>ruler</td>\n      <td>ἀρχὴν</td>\n      <td>1</td>\n      <td>1</td>\n      <td>1</td>\n      <td>1</td>\n      <td>1</td>\n      <td>1co 15:24</td>\n    </tr>\n    <tr>\n      <th>4</th>\n      <td>προΐστημι</td>\n      <td>G42910</td>\n      <td>Gr,V,PEA,NMP,</td>\n      <td>having ruled</td>\n      <td>having ruled</td>\n      <td>προεστῶτες</td>\n      <td>other</td>\n      <td>ruler</td>\n      <td>προεστῶτες</td>\n      <td>1</td>\n      <td>1</td>\n      <td>2</td>\n      <td>2</td>\n      <td>1</td>\n      <td>1ti 5:17</td>\n    </tr>\n    <tr>\n      <th>...</th>\n      <td>...</td>\n      <td>...</td>\n      <td>...</td>\n      <td>...</td>\n      <td>...</td>\n      <td>...</td>\n      <td>...</td>\n      <td>...</td>\n      <td>...</td>\n      <td>...</td>\n      <td>...</td>\n      <td>...</td>\n      <td>...</td>\n      <td>...</td>\n      <td>...</td>\n    </tr>\n    <tr>\n      <th>181</th>\n      <td>מָשַׁל</td>\n      <td>c:b:H4910</td>\n      <td>He,C:R:Vqc</td>\n      <td>but when rules</td>\n      <td>but when rules</td>\n      <td>וּ⁠בִ⁠מְשֹׁ֥ל</td>\n      <td>other</td>\n      <td>ruler</td>\n      <td>וּ⁠בִ⁠מְשֹׁ֥ל</td>\n      <td>1</td>\n      <td>1</td>\n      <td>3</td>\n      <td>3</td>\n      <td>1</td>\n      <td>pro 29:2</td>\n    </tr>\n    <tr>\n      <th>182</th>\n      <td>מָשַׁל</td>\n      <td>H4910</td>\n      <td>He,Vqrmsa</td>\n      <td>A ruler</td>\n      <td>A ruler</td>\n      <td>מֹ֭שֵׁל</td>\n      <td>other</td>\n      <td>ruler</td>\n      <td>מֹ֭שֵׁל</td>\n      <td>1</td>\n      <td>1</td>\n      <td>2</td>\n      <td>2</td>\n      <td>1</td>\n      <td>pro 29:12</td>\n    </tr>\n    <tr>\n      <th>183</th>\n      <td>מָשַׁל</td>\n      <td>H4910</td>\n      <td>He,Vqrmsa</td>\n      <td>a ruler</td>\n      <td>a ruler</td>\n      <td>מוֹשֵׁ֑ל</td>\n      <td>other</td>\n      <td>ruler</td>\n      <td>מוֹשֵׁ֑ל</td>\n      <td>1</td>\n      <td>1</td>\n      <td>2</td>\n      <td>2</td>\n      <td>1</td>\n      <td>pro 29:26</td>\n    </tr>\n    <tr>\n      <th>184</th>\n      <td>רָזַן</td>\n      <td>c:l:H7336</td>\n      <td>He,C:R:Vqrmpa</td>\n      <td>or for dignitaries</td>\n      <td>or for dignitaries</td>\n      <td>וּ֝⁠לְ⁠רוֹזְנִ֗ים</td>\n      <td>other</td>\n      <td>ruler</td>\n      <td>וּ֝⁠לְ⁠רוֹזְנִ֗ים</td>\n      <td>1</td>\n      <td>1</td>\n      <td>3</td>\n      <td>3</td>\n      <td>1</td>\n      <td>pro 31:4</td>\n    </tr>\n    <tr>\n      <th>185</th>\n      <td>שָׁלַט</td>\n      <td>H7980</td>\n      <td>He,Vhj3fs</td>\n      <td>do let rule</td>\n      <td>do let rule</td>\n      <td>תַּשְׁלֶט</td>\n      <td>other</td>\n      <td>ruler</td>\n      <td>תַּשְׁלֶט</td>\n      <td>1</td>\n      <td>1</td>\n      <td>3</td>\n      <td>3</td>\n      <td>1</td>\n      <td>psa 119:133</td>\n    </tr>\n  </tbody>\n</table>\n<p>186 rows × 15 columns</p>\n</div>"
     },
     "execution_count": 2,
     "metadata": {},
     "output_type": "execute_result"
    }
   ],
   "source": [
    "import json\n",
    "import pandas as pd\n",
    "import os\n",
    "\n",
    "parsedData = []\n",
    "\n",
    "jsonFilePath = 'searchResults.json'\n",
    "with open(jsonFilePath, 'r') as json_file:\n",
    "    data = json.load(json_file)\n",
    "\n",
    "def reformatData(item):\n",
    "    newItem = item.copy()\n",
    "    for key in ['lemma', 'strong', 'alignedText', 'targetAlignment', 'sourceAlignment']:\n",
    "        value = item[key]\n",
    "        count = len(value.split())\n",
    "        newItem[key + 'Count'] = count\n",
    "    newItem['tWord'] = item['targetText']\n",
    "    del newItem['targetText']\n",
    "    del newItem['refs']\n",
    "    del newItem['count']\n",
    "    return newItem\n",
    "\n",
    "for i in range(len(data)):\n",
    "    item = data[i]\n",
    "    refs = item['refs']\n",
    "    newItem = reformatData(item)\n",
    "\n",
    "    for ref in refs:\n",
    "        newItem_ = newItem.copy()\n",
    "        newItem_['ref'] = ref\n",
    "        parsedData.append(newItem_)\n",
    "\n",
    "base_path, file_name = os.path.split(jsonFilePath)\n",
    "base_name, ext = os.path.splitext(file_name)\n",
    "outputFileName = 'parsedtWords-' + base_name + ext\n",
    "outputFilePath = os.path.join(base_path, outputFileName)\n",
    "with open(outputFilePath, 'w') as json_file:\n",
    "    json.dump(parsedData, json_file)\n",
    "    \n",
    "df = pd.DataFrame.from_dict(parsedData)\n",
    "\n",
    "print(len(parsedData), \"rows found\")\n",
    "\n",
    "df"
   ]
  },
  {
   "cell_type": "code",
   "execution_count": 2,
   "id": "ab6115aa-9d52-4858-812f-40fd5c8b7fe2",
   "metadata": {
    "ExecuteTime": {
     "start_time": "2023-07-11T07:26:48.717881Z",
     "end_time": "2023-07-11T07:26:48.719555Z"
    },
    "jupyter": {
     "outputs_hidden": false,
     "source_hidden": false
    },
    "noteable": {
     "cell_type": "code"
    }
   },
   "outputs": [],
   "source": []
  }
 ],
 "metadata": {
  "kernelspec": {
   "display_name": "Python 3 (ipykernel)",
   "language": "python",
   "name": "python3"
  },
  "language_info": {
   "codemirror_mode": {
    "name": "ipython",
    "version": 3
   },
   "file_extension": ".py",
   "mimetype": "text/x-python",
   "name": "python",
   "nbconvert_exporter": "python",
   "pygments_lexer": "ipython3",
   "version": "3.9.5"
  },
  "noteable": {
   "last_delta_id": "2c7b14e8-3ab5-4165-ba19-58560ae80ce4",
   "last_transaction_id": "dd0ba3d8-dc90-4581-b6f8-8cdbecb128d5"
  },
  "nteract": {
   "version": "noteable@2.9.0"
  },
  "selected_hardware_size": "small"
 },
 "nbformat": 4,
 "nbformat_minor": 5
}
