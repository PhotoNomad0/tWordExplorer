{
 "cells": [
  {
   "cell_type": "code",
   "execution_count": null,
   "id": "66c34048",
   "metadata": {
    "ExecuteTime": {
     "start_time": "2023-07-06T09:40:24.810096Z",
     "end_time": "2023-07-06T09:41:03.922453Z"
    },
    "datalink": {
     "931195f9-dbf5-42c2-a945-dbe96b634b5f": {
      "applied_filters": [],
      "dataframe_info": {
       "default_index_used": true,
       "orig_num_cols": 12,
       "orig_num_rows": 140,
       "orig_size_bytes": 14560,
       "truncated_num_cols": 12,
       "truncated_num_rows": 140,
       "truncated_size_bytes": 14560,
       "truncated_string_columns": []
      },
      "display_id": "931195f9-dbf5-42c2-a945-dbe96b634b5f",
      "dx_settings": {
       "ALLOW_NOTEABLE_ATTRS": true,
       "COLUMN_SAMPLING_METHOD": "outer",
       "DB_LOCATION": ":memory:",
       "DEV_MODE": false,
       "DISPLAY_MAX_COLUMNS": 100,
       "DISPLAY_MAX_ROWS": 50000,
       "DISPLAY_MODE": "simple",
       "ENABLE_ASSIGNMENT": true,
       "ENABLE_DATALINK": true,
       "FLATTEN_COLUMN_VALUES": true,
       "FLATTEN_INDEX_VALUES": false,
       "GENERATE_DEX_METADATA": false,
       "HTML_TABLE_SCHEMA": false,
       "LOG_LEVEL": 30,
       "MAX_RENDER_SIZE_BYTES": 104857600,
       "MAX_STRING_LENGTH": 250,
       "NUM_PAST_SAMPLES_TRACKED": 3,
       "RANDOM_STATE": 12648430,
       "RESET_INDEX_VALUES": false,
       "ROW_SAMPLING_METHOD": "random",
       "SAMPLING_FACTOR": 0.1,
       "SAMPLING_METHOD": "random",
       "STRINGIFY_COLUMN_VALUES": true,
       "STRINGIFY_INDEX_VALUES": false
      },
      "sample_history": [],
      "sampling_time": "2023-07-05T17:41:31.365289",
      "user_variable_name": "df",
      "variable_name": "df"
     }
    },
    "jupyter": {
     "outputs_hidden": false
    },
    "noteable": {},
    "scrolled": false,
    "pycharm": {
     "is_executing": true
    }
   },
   "outputs": [
    {
     "name": "stdout",
     "output_type": "stream",
     "text": [
      "141 rows found\n"
     ]
    }
   ],
   "source": [
    "import json\n",
    "import pandas as pd\n",
    "\n",
    "parsedData = []\n",
    "\n",
    "with open('searchResultsAlign.json', 'r') as json_file:\n",
    "    data = json.load(json_file)\n",
    "\n",
    "\n",
    "def reformatData(item):\n",
    "    newItem = item.copy()\n",
    "    for key in ['lemma', 'strong', 'sourceText', 'targetText']:\n",
    "        value = item[key]\n",
    "        count = len(value.split())\n",
    "        newItem[key + 'Count'] = count\n",
    "\n",
    "    del newItem['refs']\n",
    "    del newItem['count']\n",
    "    return newItem\n",
    "\n",
    "for i in range(len(data)):\n",
    "    item = data[i]\n",
    "    refs = item['refs']\n",
    "    newItem = reformatData(item)\n",
    "\n",
    "    for j in range(len(refs)):\n",
    "        ref = refs[j]\n",
    "        newItem_ = newItem.copy()\n",
    "        newItem_['ref'] = ref\n",
    "        targetsPos = newItem['targetsPos'][j].split()\n",
    "        positions = []\n",
    "        for pos in targetsPos:\n",
    "            positions.append(int(pos))\n",
    "        newItem_['targetsPos'] = positions\n",
    "\n",
    "        deltas = []\n",
    "        for k in range(len(positions) - 1):\n",
    "            delta = abs(positions[k] - positions[k + 1])\n",
    "            deltas.append(delta)\n",
    "        newItem_['deltas'] = deltas\n",
    "        \n",
    "        parsedData.append(newItem_)\n",
    "        \n",
    "        \n",
    "with open('parsedSearchResultsAlign.json', 'w') as json_file:\n",
    "    json.dump(parsedData, json_file)\n",
    "    \n",
    "df = pd.DataFrame.from_dict(parsedData)\n",
    "\n",
    "print(len(parsedData), \"rows found\")\n",
    "\n",
    "df"
   ]
  },
  {
   "cell_type": "code",
   "execution_count": 2,
   "id": "ab6115aa-9d52-4858-812f-40fd5c8b7fe2",
   "metadata": {
    "ExecuteTime": {
     "start_time": "2023-07-06T09:40:24.811810Z",
     "end_time": "2023-07-06T09:40:24.813237Z"
    },
    "jupyter": {
     "outputs_hidden": false,
     "source_hidden": false
    },
    "noteable": {
     "cell_type": "code"
    }
   },
   "outputs": [],
   "source": []
  }
 ],
 "metadata": {
  "kernelspec": {
   "display_name": "Python 3 (ipykernel)",
   "language": "python",
   "name": "python3"
  },
  "language_info": {
   "codemirror_mode": {
    "name": "ipython",
    "version": 3
   },
   "file_extension": ".py",
   "mimetype": "text/x-python",
   "name": "python",
   "nbconvert_exporter": "python",
   "pygments_lexer": "ipython3",
   "version": "3.9.5"
  },
  "noteable": {
   "last_delta_id": "2c7b14e8-3ab5-4165-ba19-58560ae80ce4",
   "last_transaction_id": "dd0ba3d8-dc90-4581-b6f8-8cdbecb128d5"
  },
  "nteract": {
   "version": "noteable@2.9.0"
  },
  "selected_hardware_size": "small"
 },
 "nbformat": 4,
 "nbformat_minor": 5
}
