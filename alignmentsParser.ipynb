{
 "cells": [
  {
   "cell_type": "code",
   "execution_count": 4,
   "id": "66c34048",
   "metadata": {
    "ExecuteTime": {
     "start_time": "2023-07-11T07:26:45.226201Z",
     "end_time": "2023-07-11T07:26:45.249414Z"
    },
    "datalink": {
     "931195f9-dbf5-42c2-a945-dbe96b634b5f": {
      "applied_filters": [],
      "dataframe_info": {
       "default_index_used": true,
       "orig_num_cols": 12,
       "orig_num_rows": 140,
       "orig_size_bytes": 14560,
       "truncated_num_cols": 12,
       "truncated_num_rows": 140,
       "truncated_size_bytes": 14560,
       "truncated_string_columns": []
      },
      "display_id": "931195f9-dbf5-42c2-a945-dbe96b634b5f",
      "dx_settings": {
       "ALLOW_NOTEABLE_ATTRS": true,
       "COLUMN_SAMPLING_METHOD": "outer",
       "DB_LOCATION": ":memory:",
       "DEV_MODE": false,
       "DISPLAY_MAX_COLUMNS": 100,
       "DISPLAY_MAX_ROWS": 50000,
       "DISPLAY_MODE": "simple",
       "ENABLE_ASSIGNMENT": true,
       "ENABLE_DATALINK": true,
       "FLATTEN_COLUMN_VALUES": true,
       "FLATTEN_INDEX_VALUES": false,
       "GENERATE_DEX_METADATA": false,
       "HTML_TABLE_SCHEMA": false,
       "LOG_LEVEL": 30,
       "MAX_RENDER_SIZE_BYTES": 104857600,
       "MAX_STRING_LENGTH": 250,
       "NUM_PAST_SAMPLES_TRACKED": 3,
       "RANDOM_STATE": 12648430,
       "RESET_INDEX_VALUES": false,
       "ROW_SAMPLING_METHOD": "random",
       "SAMPLING_FACTOR": 0.1,
       "SAMPLING_METHOD": "random",
       "STRINGIFY_COLUMN_VALUES": true,
       "STRINGIFY_INDEX_VALUES": false
      },
      "sample_history": [],
      "sampling_time": "2023-07-05T17:41:31.365289",
      "user_variable_name": "df",
      "variable_name": "df"
     }
    },
    "jupyter": {
     "outputs_hidden": false
    },
    "noteable": {},
    "scrolled": false
   },
   "outputs": [
    {
     "name": "stdout",
     "output_type": "stream",
     "text": [
      "75 rows found\n"
     ]
    },
    {
     "data": {
      "text/plain": "                          morph              lemma                sourceText  \\\n0                 Gr,V,IIP3,,P,           βαπτίζω             ἐβαπτίζοντο   \n1                 Gr,V,IPA1,,S,           βαπτίζω                  βαπτίζω   \n2                 Gr,V,IPA1,,S,           βαπτίζω                  βαπτίζω   \n3                 Gr,V,IPA1,,S,           βαπτίζω                  βαπτίζω   \n4                 Gr,V,IFA3,,S,           βαπτίζω                 βαπτίσει   \n..                          ...                ...                       ...   \n70                Gr,V,IPP3,,P,           βαπτίζω              βαπτίζονται   \n71                Gr,V,IAP2,,P,           βαπτίζω             ἐβαπτίσθητε   \n72  Gr,V,PEP,NMP, Gr,V,IIA3,,P,  βαπτίζω ὑπάρχω  βεβαπτισμένοι ὑπῆρχον   \n73  Gr,RD,,,,GNS, Gr,V,NAP,,,,,        ὁ βαπτίζω         τοῦ βαπτισθῆναι   \n74  Gr,RD,,,,DNS, Gr,V,NAP,,,,,        ὁ βαπτίζω         τῷ βαπτισθῆναι   \n\n           strong              targetText   targetsPos  lemmaCount  \\\n0          G09070          being baptized          1 2           1   \n1          G09070                 baptize            1           1   \n2          G09070                 baptize            8           1   \n3          G09070                 baptize            5           1   \n4          G09070            will baptize        29 30           1   \n..            ...                     ...          ...         ...   \n70         G09070       are they baptized     21 22 23           1   \n71         G09070      have been baptized        4 5 6           1   \n72  G09070 G52250  they had been baptized  11 12 14 15           2   \n73  G35880 G09070          to be baptized     10 11 12           2   \n74  G35880 G09070     were being baptized       8 9 10           2   \n\n    strongCount  sourceTextCount  targetTextCount        ref  deltaAve  \\\n0             1                1                2    mat 3:6  1.000000   \n1             1                1                1   mat 3:11  0.000000   \n2             1                1                1   luk 3:16  0.000000   \n3             1                1                1   jhn 1:26  0.000000   \n4             1                1                2   mat 3:11  1.000000   \n..          ...              ...              ...        ...       ...   \n70            1                1                3  1co 15:29  1.000000   \n71            1                1                3   gal 3:27  1.000000   \n72            2                2                4   act 8:16  1.333333   \n73            2                2                3   mat 3:13  1.000000   \n74            2                2                3   luk 3:21  1.000000   \n\n    deltaVar  \n0   0.000000  \n1   0.000000  \n2   0.000000  \n3   0.000000  \n4   0.000000  \n..       ...  \n70  0.000000  \n71  0.000000  \n72  0.333333  \n73  0.000000  \n74  0.000000  \n\n[75 rows x 13 columns]",
      "text/html": "<div>\n<style scoped>\n    .dataframe tbody tr th:only-of-type {\n        vertical-align: middle;\n    }\n\n    .dataframe tbody tr th {\n        vertical-align: top;\n    }\n\n    .dataframe thead th {\n        text-align: right;\n    }\n</style>\n<table border=\"1\" class=\"dataframe\">\n  <thead>\n    <tr style=\"text-align: right;\">\n      <th></th>\n      <th>morph</th>\n      <th>lemma</th>\n      <th>sourceText</th>\n      <th>strong</th>\n      <th>targetText</th>\n      <th>targetsPos</th>\n      <th>lemmaCount</th>\n      <th>strongCount</th>\n      <th>sourceTextCount</th>\n      <th>targetTextCount</th>\n      <th>ref</th>\n      <th>deltaAve</th>\n      <th>deltaVar</th>\n    </tr>\n  </thead>\n  <tbody>\n    <tr>\n      <th>0</th>\n      <td>Gr,V,IIP3,,P,</td>\n      <td>βαπτίζω</td>\n      <td>ἐβαπτίζοντο</td>\n      <td>G09070</td>\n      <td>being baptized</td>\n      <td>1 2</td>\n      <td>1</td>\n      <td>1</td>\n      <td>1</td>\n      <td>2</td>\n      <td>mat 3:6</td>\n      <td>1.000000</td>\n      <td>0.000000</td>\n    </tr>\n    <tr>\n      <th>1</th>\n      <td>Gr,V,IPA1,,S,</td>\n      <td>βαπτίζω</td>\n      <td>βαπτίζω</td>\n      <td>G09070</td>\n      <td>baptize</td>\n      <td>1</td>\n      <td>1</td>\n      <td>1</td>\n      <td>1</td>\n      <td>1</td>\n      <td>mat 3:11</td>\n      <td>0.000000</td>\n      <td>0.000000</td>\n    </tr>\n    <tr>\n      <th>2</th>\n      <td>Gr,V,IPA1,,S,</td>\n      <td>βαπτίζω</td>\n      <td>βαπτίζω</td>\n      <td>G09070</td>\n      <td>baptize</td>\n      <td>8</td>\n      <td>1</td>\n      <td>1</td>\n      <td>1</td>\n      <td>1</td>\n      <td>luk 3:16</td>\n      <td>0.000000</td>\n      <td>0.000000</td>\n    </tr>\n    <tr>\n      <th>3</th>\n      <td>Gr,V,IPA1,,S,</td>\n      <td>βαπτίζω</td>\n      <td>βαπτίζω</td>\n      <td>G09070</td>\n      <td>baptize</td>\n      <td>5</td>\n      <td>1</td>\n      <td>1</td>\n      <td>1</td>\n      <td>1</td>\n      <td>jhn 1:26</td>\n      <td>0.000000</td>\n      <td>0.000000</td>\n    </tr>\n    <tr>\n      <th>4</th>\n      <td>Gr,V,IFA3,,S,</td>\n      <td>βαπτίζω</td>\n      <td>βαπτίσει</td>\n      <td>G09070</td>\n      <td>will baptize</td>\n      <td>29 30</td>\n      <td>1</td>\n      <td>1</td>\n      <td>1</td>\n      <td>2</td>\n      <td>mat 3:11</td>\n      <td>1.000000</td>\n      <td>0.000000</td>\n    </tr>\n    <tr>\n      <th>...</th>\n      <td>...</td>\n      <td>...</td>\n      <td>...</td>\n      <td>...</td>\n      <td>...</td>\n      <td>...</td>\n      <td>...</td>\n      <td>...</td>\n      <td>...</td>\n      <td>...</td>\n      <td>...</td>\n      <td>...</td>\n      <td>...</td>\n    </tr>\n    <tr>\n      <th>70</th>\n      <td>Gr,V,IPP3,,P,</td>\n      <td>βαπτίζω</td>\n      <td>βαπτίζονται</td>\n      <td>G09070</td>\n      <td>are they baptized</td>\n      <td>21 22 23</td>\n      <td>1</td>\n      <td>1</td>\n      <td>1</td>\n      <td>3</td>\n      <td>1co 15:29</td>\n      <td>1.000000</td>\n      <td>0.000000</td>\n    </tr>\n    <tr>\n      <th>71</th>\n      <td>Gr,V,IAP2,,P,</td>\n      <td>βαπτίζω</td>\n      <td>ἐβαπτίσθητε</td>\n      <td>G09070</td>\n      <td>have been baptized</td>\n      <td>4 5 6</td>\n      <td>1</td>\n      <td>1</td>\n      <td>1</td>\n      <td>3</td>\n      <td>gal 3:27</td>\n      <td>1.000000</td>\n      <td>0.000000</td>\n    </tr>\n    <tr>\n      <th>72</th>\n      <td>Gr,V,PEP,NMP, Gr,V,IIA3,,P,</td>\n      <td>βαπτίζω ὑπάρχω</td>\n      <td>βεβαπτισμένοι ὑπῆρχον</td>\n      <td>G09070 G52250</td>\n      <td>they had been baptized</td>\n      <td>11 12 14 15</td>\n      <td>2</td>\n      <td>2</td>\n      <td>2</td>\n      <td>4</td>\n      <td>act 8:16</td>\n      <td>1.333333</td>\n      <td>0.333333</td>\n    </tr>\n    <tr>\n      <th>73</th>\n      <td>Gr,RD,,,,GNS, Gr,V,NAP,,,,,</td>\n      <td>ὁ βαπτίζω</td>\n      <td>τοῦ βαπτισθῆναι</td>\n      <td>G35880 G09070</td>\n      <td>to be baptized</td>\n      <td>10 11 12</td>\n      <td>2</td>\n      <td>2</td>\n      <td>2</td>\n      <td>3</td>\n      <td>mat 3:13</td>\n      <td>1.000000</td>\n      <td>0.000000</td>\n    </tr>\n    <tr>\n      <th>74</th>\n      <td>Gr,RD,,,,DNS, Gr,V,NAP,,,,,</td>\n      <td>ὁ βαπτίζω</td>\n      <td>τῷ βαπτισθῆναι</td>\n      <td>G35880 G09070</td>\n      <td>were being baptized</td>\n      <td>8 9 10</td>\n      <td>2</td>\n      <td>2</td>\n      <td>2</td>\n      <td>3</td>\n      <td>luk 3:21</td>\n      <td>1.000000</td>\n      <td>0.000000</td>\n    </tr>\n  </tbody>\n</table>\n<p>75 rows × 13 columns</p>\n</div>"
     },
     "execution_count": 4,
     "metadata": {},
     "output_type": "execute_result"
    }
   ],
   "source": [
    "import json\n",
    "import pandas as pd\n",
    "import statistics as stats\n",
    "import os\n",
    "\n",
    "parsedData = []\n",
    "\n",
    "jsonFilePath = 'searchResults-βαπτίζω.json'\n",
    "with open(jsonFilePath, 'r') as json_file:\n",
    "    data = json.load(json_file)\n",
    "\n",
    "def reformatData(item):\n",
    "    newItem = item.copy()\n",
    "    for key in ['lemma', 'strong', 'sourceText', 'targetText']:\n",
    "        value = item[key]\n",
    "        count = len(value.split())\n",
    "        newItem[key + 'Count'] = count\n",
    "\n",
    "    del newItem['refs']\n",
    "    del newItem['count']\n",
    "    return newItem\n",
    "\n",
    "for i in range(len(data)):\n",
    "    item = data[i]\n",
    "    refs = item['refs']\n",
    "    newItem = reformatData(item)\n",
    "\n",
    "    for j in range(len(refs)):\n",
    "        ref = refs[j]\n",
    "        newItem_ = newItem.copy()\n",
    "        newItem_['ref'] = ref\n",
    "        targetsPosStr = newItem['targetsPos'][j]\n",
    "        targetsPos = targetsPosStr.split()\n",
    "        positions = []\n",
    "        for pos in targetsPos:\n",
    "            positions.append(int(pos))\n",
    "        newItem_['targetsPos'] = targetsPosStr\n",
    "\n",
    "        deltas = []\n",
    "        for k in range(len(positions) - 1):\n",
    "            delta = abs(positions[k] - positions[k + 1])\n",
    "            deltas.append(delta)\n",
    "        # newItem_['deltas'] = deltas\n",
    "        \n",
    "        if len(deltas) == 0:\n",
    "            deltaAve = 0\n",
    "            deltaVar = 0\n",
    "        else:\n",
    "            deltaAve = stats.mean(deltas)\n",
    "            if len(deltas) == 1:\n",
    "                deltaVar = 0\n",
    "            else:\n",
    "                deltaVar = stats.variance(deltas)\n",
    "\n",
    "        newItem_['deltaAve'] = deltaAve\n",
    "        newItem_['deltaVar'] = deltaVar\n",
    "        \n",
    "        parsedData.append(newItem_)\n",
    "\n",
    "\n",
    "base_path, file_name = os.path.split(jsonFilePath)\n",
    "base_name, ext = os.path.splitext(file_name)\n",
    "outputFileName = 'parsedAlignments-' + base_name + ext\n",
    "outputFilePath = os.path.join(base_path, outputFileName)\n",
    "with open(outputFilePath, 'w') as json_file:\n",
    "    json.dump(parsedData, json_file)\n",
    "    \n",
    "df = pd.DataFrame.from_dict(parsedData)\n",
    "\n",
    "print(len(parsedData), \"rows found\")\n",
    "\n",
    "df"
   ]
  },
  {
   "cell_type": "code",
   "execution_count": 4,
   "id": "ab6115aa-9d52-4858-812f-40fd5c8b7fe2",
   "metadata": {
    "ExecuteTime": {
     "start_time": "2023-07-11T07:26:45.246201Z",
     "end_time": "2023-07-11T07:26:45.249497Z"
    },
    "jupyter": {
     "outputs_hidden": false,
     "source_hidden": false
    },
    "noteable": {
     "cell_type": "code"
    }
   },
   "outputs": [],
   "source": []
  }
 ],
 "metadata": {
  "kernelspec": {
   "display_name": "Python 3 (ipykernel)",
   "language": "python",
   "name": "python3"
  },
  "language_info": {
   "codemirror_mode": {
    "name": "ipython",
    "version": 3
   },
   "file_extension": ".py",
   "mimetype": "text/x-python",
   "name": "python",
   "nbconvert_exporter": "python",
   "pygments_lexer": "ipython3",
   "version": "3.9.5"
  },
  "noteable": {
   "last_delta_id": "2c7b14e8-3ab5-4165-ba19-58560ae80ce4",
   "last_transaction_id": "dd0ba3d8-dc90-4581-b6f8-8cdbecb128d5"
  },
  "nteract": {
   "version": "noteable@2.9.0"
  },
  "selected_hardware_size": "small"
 },
 "nbformat": 4,
 "nbformat_minor": 5
}
