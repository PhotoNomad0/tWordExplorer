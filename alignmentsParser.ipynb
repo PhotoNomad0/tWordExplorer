{
 "cells": [
  {
   "cell_type": "code",
   "execution_count": 5,
   "id": "66c34048",
   "metadata": {
    "ExecuteTime": {
     "start_time": "2023-07-11T06:29:18.417070Z",
     "end_time": "2023-07-11T06:29:53.731050Z"
    },
    "datalink": {
     "931195f9-dbf5-42c2-a945-dbe96b634b5f": {
      "applied_filters": [],
      "dataframe_info": {
       "default_index_used": true,
       "orig_num_cols": 12,
       "orig_num_rows": 140,
       "orig_size_bytes": 14560,
       "truncated_num_cols": 12,
       "truncated_num_rows": 140,
       "truncated_size_bytes": 14560,
       "truncated_string_columns": []
      },
      "display_id": "931195f9-dbf5-42c2-a945-dbe96b634b5f",
      "dx_settings": {
       "ALLOW_NOTEABLE_ATTRS": true,
       "COLUMN_SAMPLING_METHOD": "outer",
       "DB_LOCATION": ":memory:",
       "DEV_MODE": false,
       "DISPLAY_MAX_COLUMNS": 100,
       "DISPLAY_MAX_ROWS": 50000,
       "DISPLAY_MODE": "simple",
       "ENABLE_ASSIGNMENT": true,
       "ENABLE_DATALINK": true,
       "FLATTEN_COLUMN_VALUES": true,
       "FLATTEN_INDEX_VALUES": false,
       "GENERATE_DEX_METADATA": false,
       "HTML_TABLE_SCHEMA": false,
       "LOG_LEVEL": 30,
       "MAX_RENDER_SIZE_BYTES": 104857600,
       "MAX_STRING_LENGTH": 250,
       "NUM_PAST_SAMPLES_TRACKED": 3,
       "RANDOM_STATE": 12648430,
       "RESET_INDEX_VALUES": false,
       "ROW_SAMPLING_METHOD": "random",
       "SAMPLING_FACTOR": 0.1,
       "SAMPLING_METHOD": "random",
       "STRINGIFY_COLUMN_VALUES": true,
       "STRINGIFY_INDEX_VALUES": false
      },
      "sample_history": [],
      "sampling_time": "2023-07-05T17:41:31.365289",
      "user_variable_name": "df",
      "variable_name": "df"
     }
    },
    "jupyter": {
     "outputs_hidden": false
    },
    "noteable": {},
    "scrolled": false
   },
   "outputs": [
    {
     "name": "stdout",
     "output_type": "stream",
     "text": [
      "141 rows found\n"
     ]
    },
    {
     "data": {
      "text/plain": "              morph       lemma     sourceText       strong  \\\n0     Gr,N,,,,,NMS,     ἄρχων        ἄρχων       G07580   \n1     Gr,N,,,,,NMS,     ἄρχων        ἄρχων       G07580   \n2     Gr,N,,,,,NMS,     ἄρχων        ἄρχων       G07580   \n3     Gr,N,,,,,AMS,     ἄρχων      ἄρχοντα       G07580   \n4     Gr,N,,,,,AMS,     ἄρχων      ἄρχοντα       G07580   \n..              ...         ...            ...          ...   \n136        He,Ncmpc      שֵׁבֶט      שִׁבְטֵי֙        H7626   \n137  He,R He,Vqrmsa  אֵת מָשַׁל   אֶת מוֹשֵׁ֑ל  H0854 H4910   \n138       He,Vti2ms      שָׂרַר   תִשְׂתָּרֵ֥ר        H8323   \n139       Ar,Vqi2ms      שְׁלֵט     תִּשְׁלַֽט        H7981   \n140  He,Ncmpc:Sp2fs      קָצִין  קְצִינַ֥יִ⁠ךְ        H7101   \n\n                       targetText      targetsPos  lemmaCount  strongCount  \\\n0                         a ruler           12 13           1            1   \n1                         a ruler             1 3           1            1   \n2                         a ruler           12 13           1            1   \n3                         a ruler           13 14           1            1   \n4                         a ruler            9 10           1            1   \n..                            ...             ...         ...          ...   \n136      used for rulers scepters         6 7 8 9           1            1   \n137                  with a ruler           5 6 7           2            2   \n138  you have made yourself ruler  27 28 29 30 31           1            1   \n139             you will be ruler     48 49 50 53           1            1   \n140                   your rulers             1 2           1            1   \n\n     sourceTextCount  targetTextCount        ref  deltaAve  deltaVar  \n0                  1                2   luk 8:41  1.000000  0.000000  \n1                  1                2  luk 18:18  2.000000  0.000000  \n2                  1                2    jhn 3:1  1.000000  0.000000  \n3                  1                2   act 7:27  1.000000  0.000000  \n4                  1                2   act 7:35  1.000000  0.000000  \n..               ...              ...        ...       ...       ...  \n136                1                4  ezk 19:11  1.000000  0.000000  \n137                2                3   pro 23:1  1.000000  0.000000  \n138                1                5  num 16:13  1.000000  0.000000  \n139                1                4   dan 5:16  1.666667  1.333333  \n140                1                2   isa 22:3  1.000000  0.000000  \n\n[141 rows x 13 columns]",
      "text/html": "<div>\n<style scoped>\n    .dataframe tbody tr th:only-of-type {\n        vertical-align: middle;\n    }\n\n    .dataframe tbody tr th {\n        vertical-align: top;\n    }\n\n    .dataframe thead th {\n        text-align: right;\n    }\n</style>\n<table border=\"1\" class=\"dataframe\">\n  <thead>\n    <tr style=\"text-align: right;\">\n      <th></th>\n      <th>morph</th>\n      <th>lemma</th>\n      <th>sourceText</th>\n      <th>strong</th>\n      <th>targetText</th>\n      <th>targetsPos</th>\n      <th>lemmaCount</th>\n      <th>strongCount</th>\n      <th>sourceTextCount</th>\n      <th>targetTextCount</th>\n      <th>ref</th>\n      <th>deltaAve</th>\n      <th>deltaVar</th>\n    </tr>\n  </thead>\n  <tbody>\n    <tr>\n      <th>0</th>\n      <td>Gr,N,,,,,NMS,</td>\n      <td>ἄρχων</td>\n      <td>ἄρχων</td>\n      <td>G07580</td>\n      <td>a ruler</td>\n      <td>12 13</td>\n      <td>1</td>\n      <td>1</td>\n      <td>1</td>\n      <td>2</td>\n      <td>luk 8:41</td>\n      <td>1.000000</td>\n      <td>0.000000</td>\n    </tr>\n    <tr>\n      <th>1</th>\n      <td>Gr,N,,,,,NMS,</td>\n      <td>ἄρχων</td>\n      <td>ἄρχων</td>\n      <td>G07580</td>\n      <td>a ruler</td>\n      <td>1 3</td>\n      <td>1</td>\n      <td>1</td>\n      <td>1</td>\n      <td>2</td>\n      <td>luk 18:18</td>\n      <td>2.000000</td>\n      <td>0.000000</td>\n    </tr>\n    <tr>\n      <th>2</th>\n      <td>Gr,N,,,,,NMS,</td>\n      <td>ἄρχων</td>\n      <td>ἄρχων</td>\n      <td>G07580</td>\n      <td>a ruler</td>\n      <td>12 13</td>\n      <td>1</td>\n      <td>1</td>\n      <td>1</td>\n      <td>2</td>\n      <td>jhn 3:1</td>\n      <td>1.000000</td>\n      <td>0.000000</td>\n    </tr>\n    <tr>\n      <th>3</th>\n      <td>Gr,N,,,,,AMS,</td>\n      <td>ἄρχων</td>\n      <td>ἄρχοντα</td>\n      <td>G07580</td>\n      <td>a ruler</td>\n      <td>13 14</td>\n      <td>1</td>\n      <td>1</td>\n      <td>1</td>\n      <td>2</td>\n      <td>act 7:27</td>\n      <td>1.000000</td>\n      <td>0.000000</td>\n    </tr>\n    <tr>\n      <th>4</th>\n      <td>Gr,N,,,,,AMS,</td>\n      <td>ἄρχων</td>\n      <td>ἄρχοντα</td>\n      <td>G07580</td>\n      <td>a ruler</td>\n      <td>9 10</td>\n      <td>1</td>\n      <td>1</td>\n      <td>1</td>\n      <td>2</td>\n      <td>act 7:35</td>\n      <td>1.000000</td>\n      <td>0.000000</td>\n    </tr>\n    <tr>\n      <th>...</th>\n      <td>...</td>\n      <td>...</td>\n      <td>...</td>\n      <td>...</td>\n      <td>...</td>\n      <td>...</td>\n      <td>...</td>\n      <td>...</td>\n      <td>...</td>\n      <td>...</td>\n      <td>...</td>\n      <td>...</td>\n      <td>...</td>\n    </tr>\n    <tr>\n      <th>136</th>\n      <td>He,Ncmpc</td>\n      <td>שֵׁבֶט</td>\n      <td>שִׁבְטֵי֙</td>\n      <td>H7626</td>\n      <td>used for rulers scepters</td>\n      <td>6 7 8 9</td>\n      <td>1</td>\n      <td>1</td>\n      <td>1</td>\n      <td>4</td>\n      <td>ezk 19:11</td>\n      <td>1.000000</td>\n      <td>0.000000</td>\n    </tr>\n    <tr>\n      <th>137</th>\n      <td>He,R He,Vqrmsa</td>\n      <td>אֵת מָשַׁל</td>\n      <td>אֶת מוֹשֵׁ֑ל</td>\n      <td>H0854 H4910</td>\n      <td>with a ruler</td>\n      <td>5 6 7</td>\n      <td>2</td>\n      <td>2</td>\n      <td>2</td>\n      <td>3</td>\n      <td>pro 23:1</td>\n      <td>1.000000</td>\n      <td>0.000000</td>\n    </tr>\n    <tr>\n      <th>138</th>\n      <td>He,Vti2ms</td>\n      <td>שָׂרַר</td>\n      <td>תִשְׂתָּרֵ֥ר</td>\n      <td>H8323</td>\n      <td>you have made yourself ruler</td>\n      <td>27 28 29 30 31</td>\n      <td>1</td>\n      <td>1</td>\n      <td>1</td>\n      <td>5</td>\n      <td>num 16:13</td>\n      <td>1.000000</td>\n      <td>0.000000</td>\n    </tr>\n    <tr>\n      <th>139</th>\n      <td>Ar,Vqi2ms</td>\n      <td>שְׁלֵט</td>\n      <td>תִּשְׁלַֽט</td>\n      <td>H7981</td>\n      <td>you will be ruler</td>\n      <td>48 49 50 53</td>\n      <td>1</td>\n      <td>1</td>\n      <td>1</td>\n      <td>4</td>\n      <td>dan 5:16</td>\n      <td>1.666667</td>\n      <td>1.333333</td>\n    </tr>\n    <tr>\n      <th>140</th>\n      <td>He,Ncmpc:Sp2fs</td>\n      <td>קָצִין</td>\n      <td>קְצִינַ֥יִ⁠ךְ</td>\n      <td>H7101</td>\n      <td>your rulers</td>\n      <td>1 2</td>\n      <td>1</td>\n      <td>1</td>\n      <td>1</td>\n      <td>2</td>\n      <td>isa 22:3</td>\n      <td>1.000000</td>\n      <td>0.000000</td>\n    </tr>\n  </tbody>\n</table>\n<p>141 rows × 13 columns</p>\n</div>"
     },
     "execution_count": 5,
     "metadata": {},
     "output_type": "execute_result"
    }
   ],
   "source": [
    "import json\n",
    "import pandas as pd\n",
    "import statistics as stats\n",
    "\n",
    "parsedData = []\n",
    "\n",
    "with open('searchResultsAlign.json', 'r') as json_file:\n",
    "    data = json.load(json_file)\n",
    "\n",
    "\n",
    "def reformatData(item):\n",
    "    newItem = item.copy()\n",
    "    for key in ['lemma', 'strong', 'sourceText', 'targetText']:\n",
    "        value = item[key]\n",
    "        count = len(value.split())\n",
    "        newItem[key + 'Count'] = count\n",
    "\n",
    "    del newItem['refs']\n",
    "    del newItem['count']\n",
    "    return newItem\n",
    "\n",
    "for i in range(len(data)):\n",
    "    item = data[i]\n",
    "    refs = item['refs']\n",
    "    newItem = reformatData(item)\n",
    "\n",
    "    for j in range(len(refs)):\n",
    "        ref = refs[j]\n",
    "        newItem_ = newItem.copy()\n",
    "        newItem_['ref'] = ref\n",
    "        targetsPosStr = newItem['targetsPos'][j]\n",
    "        targetsPos = targetsPosStr.split()\n",
    "        positions = []\n",
    "        for pos in targetsPos:\n",
    "            positions.append(int(pos))\n",
    "        newItem_['targetsPos'] = targetsPosStr\n",
    "\n",
    "        deltas = []\n",
    "        for k in range(len(positions) - 1):\n",
    "            delta = abs(positions[k] - positions[k + 1])\n",
    "            deltas.append(delta)\n",
    "        # newItem_['deltas'] = deltas\n",
    "        \n",
    "        if len(deltas) == 0:\n",
    "            deltaAve = 0\n",
    "            deltaVar = 0\n",
    "        else:\n",
    "            deltaAve = stats.mean(deltas)\n",
    "            if len(deltas) == 1:\n",
    "                deltaVar = 0\n",
    "            else:\n",
    "                deltaVar = stats.variance(deltas)\n",
    "\n",
    "        newItem_['deltaAve'] = deltaAve\n",
    "        newItem_['deltaVar'] = deltaVar\n",
    "        \n",
    "        parsedData.append(newItem_)\n",
    "        \n",
    "        \n",
    "with open('parsedSearchResultsAlign.json', 'w') as json_file:\n",
    "    json.dump(parsedData, json_file)\n",
    "    \n",
    "df = pd.DataFrame.from_dict(parsedData)\n",
    "\n",
    "print(len(parsedData), \"rows found\")\n",
    "\n",
    "df"
   ]
  },
  {
   "cell_type": "code",
   "execution_count": 4,
   "id": "ab6115aa-9d52-4858-812f-40fd5c8b7fe2",
   "metadata": {
    "ExecuteTime": {
     "start_time": "2023-07-11T06:28:33.294104Z",
     "end_time": "2023-07-11T06:28:33.295709Z"
    },
    "jupyter": {
     "outputs_hidden": false,
     "source_hidden": false
    },
    "noteable": {
     "cell_type": "code"
    }
   },
   "outputs": [],
   "source": []
  }
 ],
 "metadata": {
  "kernelspec": {
   "display_name": "Python 3 (ipykernel)",
   "language": "python",
   "name": "python3"
  },
  "language_info": {
   "codemirror_mode": {
    "name": "ipython",
    "version": 3
   },
   "file_extension": ".py",
   "mimetype": "text/x-python",
   "name": "python",
   "nbconvert_exporter": "python",
   "pygments_lexer": "ipython3",
   "version": "3.9.5"
  },
  "noteable": {
   "last_delta_id": "2c7b14e8-3ab5-4165-ba19-58560ae80ce4",
   "last_transaction_id": "dd0ba3d8-dc90-4581-b6f8-8cdbecb128d5"
  },
  "nteract": {
   "version": "noteable@2.9.0"
  },
  "selected_hardware_size": "small"
 },
 "nbformat": 4,
 "nbformat_minor": 5
}
